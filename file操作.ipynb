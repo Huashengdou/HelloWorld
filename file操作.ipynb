{
 "cells": [
  {
   "cell_type": "markdown",
   "metadata": {},
   "source": [
    "- open函数中的参数一共三个，唯一强制的参数是文件名，第二个和第三个参数分别是模式和缓冲区，默认模式是读模式，默认缓冲区是无。第二个参数模式选项为：\n",
    "    - 'r'：读模式\n",
    "    - 'w'：写模式\n",
    "    - 'a'：追加模式\n",
    "    - 'b'：二进制模式（可添加到其他模式中使用）\n",
    "    - '+'：读写模式（可添加到其他模式中使用）\n",
    "- 第三个参数缓冲区\n",
    "    - 默认是无缓冲，直接将数据写到硬盘；\n",
    "    - 如果参数是1，是有缓冲的，数据先写到内存中，在通过函数flush或者close函数将数据更新到硬盘；\n",
    "    - 参数大于1，大于1的数字代表缓冲区的大小，-1或者任何负数表示使用默认缓冲区的大小。"
   ]
  },
  {
   "cell_type": "markdown",
   "metadata": {},
   "source": [
    "- 文件读取\n",
    "    - 分为按字节读取read(),按行读取readlines()"
   ]
  },
  {
   "cell_type": "code",
   "execution_count": 7,
   "metadata": {},
   "outputs": [
    {
     "ename": "FileNotFoundError",
     "evalue": "[Errno 2] No such file or directory: './hello.txt'",
     "output_type": "error",
     "traceback": [
      "\u001b[0;31m---------------------------------------------------------------------------\u001b[0m",
      "\u001b[0;31mFileNotFoundError\u001b[0m                         Traceback (most recent call last)",
      "\u001b[0;32m<ipython-input-7-323968bccbdd>\u001b[0m in \u001b[0;36m<module>\u001b[0;34m\u001b[0m\n\u001b[1;32m      1\u001b[0m \u001b[0;31m# 打开不存在的文件\u001b[0m\u001b[0;34m\u001b[0m\u001b[0;34m\u001b[0m\u001b[0;34m\u001b[0m\u001b[0m\n\u001b[0;32m----> 2\u001b[0;31m \u001b[0mf\u001b[0m \u001b[0;34m=\u001b[0m \u001b[0mopen\u001b[0m\u001b[0;34m(\u001b[0m\u001b[0;34mr'./hello.txt'\u001b[0m\u001b[0;34m)\u001b[0m\u001b[0;34m\u001b[0m\u001b[0;34m\u001b[0m\u001b[0m\n\u001b[0m",
      "\u001b[0;31mFileNotFoundError\u001b[0m: [Errno 2] No such file or directory: './hello.txt'"
     ]
    }
   ],
   "source": [
    "# 打开不存在的文件\n",
    "f = open(r'./hello.txt')"
   ]
  },
  {
   "cell_type": "code",
   "execution_count": 11,
   "metadata": {},
   "outputs": [],
   "source": [
    "# 打开存在的文件\n",
    "f = open(r'./hello.txt')\n",
    "f.read()\n",
    "# 调用完毕后，关闭文件\n",
    "f.close()"
   ]
  },
  {
   "cell_type": "markdown",
   "metadata": {},
   "source": [
    "- tips\n",
    "    - 由于文件操作可能会出现I/O异常，当异常出现时，后面的close方法就不会调用，所以一般用try...finally实现"
   ]
  },
  {
   "cell_type": "code",
   "execution_count": 12,
   "metadata": {},
   "outputs": [
    {
     "name": "stdout",
     "output_type": "stream",
     "text": [
      "hello world!\n",
      "hahahaha\n",
      "\n",
      "99999\n",
      "66666\n",
      "------\n",
      "\n"
     ]
    }
   ],
   "source": [
    "# try...finally\n",
    "try:\n",
    "    f = open(r'./hello.txt')\n",
    "    print(f.read())\n",
    "finally:\n",
    "    if f:\n",
    "        f.close()"
   ]
  },
  {
   "cell_type": "markdown",
   "metadata": {},
   "source": [
    "- tips\n",
    "    - 由于上面语法较为繁琐，一般用with语句替代，如下："
   ]
  },
  {
   "cell_type": "code",
   "execution_count": 13,
   "metadata": {},
   "outputs": [
    {
     "name": "stdout",
     "output_type": "stream",
     "text": [
      "hello world!\n",
      "hahahaha\n",
      "\n",
      "99999\n",
      "66666\n",
      "------\n",
      "\n"
     ]
    }
   ],
   "source": [
    "# with语句\n",
    "with open(r'./hello.txt') as fileReader:\n",
    "    print(fileReader.read())"
   ]
  },
  {
   "cell_type": "markdown",
   "metadata": {},
   "source": [
    "- 文件写入\n",
    "    - 使用write方法的时候，操作系统不是立即将数据写入文件的，而是先写入内存中缓存起来，等到空闲时候再写入文件，最后使用close方法将数据完整的写入文件"
   ]
  },
  {
   "cell_type": "code",
   "execution_count": 19,
   "metadata": {},
   "outputs": [],
   "source": [
    "with open('./hello.txt','w') as fileWriter:\n",
    "    fileWriter.write('wo shi shui?')\n",
    "fileWriter.close()"
   ]
  },
  {
   "cell_type": "markdown",
   "metadata": {},
   "source": [
    "- 操作文件和目录\n",
    "    - 用到的是OS模块和shutil模块"
   ]
  },
  {
   "cell_type": "code",
   "execution_count": 26,
   "metadata": {},
   "outputs": [
    {
     "data": {
      "text/plain": [
       "'\\n'"
      ]
     },
     "execution_count": 26,
     "metadata": {},
     "output_type": "execute_result"
    }
   ],
   "source": [
    "import os\n",
    "os.getcwd()\n",
    "os.listdir(\"./\")\n",
    "os.linesep"
   ]
  },
  {
   "cell_type": "markdown",
   "metadata": {},
   "source": [
    "- 把内存中的变量变成可存储或可传输的过程，就是序列化。是直接写到磁盘。\n",
    "- cPickle和pickle是实现这个功能用到的两个模块。前者效率高，因为前者是C语言写的。"
   ]
  },
  {
   "cell_type": "code",
   "execution_count": 33,
   "metadata": {},
   "outputs": [
    {
     "data": {
      "text/plain": [
       "{'url': 'index.html', 'title': 'house', 'content': 'first'}"
      ]
     },
     "execution_count": 33,
     "metadata": {},
     "output_type": "execute_result"
    }
   ],
   "source": [
    "# 一般编写程序时先导入Cpickle如果此模块不存在，则导入Pickle\n",
    "try:\n",
    "    import cPickle as pickle\n",
    "except ImportError:\n",
    "    import pickle\n",
    "# pickle实现序列化主要使用的是dumps方法\n",
    "d = dict(url='index.html', title='house',content='first')\n",
    "pickle.dumps(d)\n",
    "# 使用dump方法将序列化的对象写入文件\n",
    "f = open(r'./dump.txt','wb')\n",
    "pickle.dump(d,f)\n",
    "f.close()\n",
    "# 实现反序列化用的是load或者loads方法\n",
    "f = open(r'./dump.txt','rb')\n",
    "m = pickle.load(f)\n",
    "f.close()\n",
    "m"
   ]
  },
  {
   "cell_type": "markdown",
   "metadata": {},
   "source": [
    "# 进程"
   ]
  },
  {
   "cell_type": "code",
   "execution_count": 41,
   "metadata": {},
   "outputs": [
    {
     "name": "stdout",
     "output_type": "stream",
     "text": [
      "current process 22954 statr...\n",
      "i(22954) create a child process (24977).\n",
      "current process 22954 statr...\n",
      "I am child process 24977 and my parent process is 22954.\n"
     ]
    }
   ],
   "source": [
    "# 这个例子还是要用独立文件运行，在这个环境下运行不对。\n",
    "if __name__ == '__main__':\n",
    "    print(\"current process %s statr...\"%(os.getpid()))\n",
    "    pid = os.fork()\n",
    "    if pid < 0:\n",
    "        print('error in fork')\n",
    "    elif pid == 0:\n",
    "        print('I am child process %s and my parent process is %s.'%(os.getpid(),os.getppid()))\n",
    "    else:\n",
    "        print(\"i(%s) create a child process (%s).\"%(os.getpid(), pid))"
   ]
  },
  {
   "cell_type": "code",
   "execution_count": null,
   "metadata": {},
   "outputs": [],
   "source": []
  }
 ],
 "metadata": {
  "kernelspec": {
   "display_name": "Python 3",
   "language": "python",
   "name": "python3"
  },
  "language_info": {
   "codemirror_mode": {
    "name": "ipython",
    "version": 3
   },
   "file_extension": ".py",
   "mimetype": "text/x-python",
   "name": "python",
   "nbconvert_exporter": "python",
   "pygments_lexer": "ipython3",
   "version": "3.7.1"
  }
 },
 "nbformat": 4,
 "nbformat_minor": 2
}
