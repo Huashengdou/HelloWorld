{
 "cells": [
  {
   "cell_type": "code",
   "execution_count": 8,
   "metadata": {},
   "outputs": [
    {
     "name": "stdout",
     "output_type": "stream",
     "text": [
      "before:\n",
      "[3, 5, 6, 1, 2, 9, 8, 11]\n",
      "after:\n",
      "[1, 2, 3, 5, 6, 8, 9, 11]\n"
     ]
    }
   ],
   "source": [
    "# 选择排序--时间复杂度为O(n²)\n",
    "\n",
    "# 首先找到数组元素中最小的\n",
    "def findSmallest(arr):\n",
    "    smallest = arr[0] # 记录最小值\n",
    "    smallest_index = 0 # 记录最小值对应的索引\n",
    "    \n",
    "    for i in range(1,len(arr)): # 注意要从1开始\n",
    "        if smallest > arr[i]:\n",
    "            smallest = arr[i]\n",
    "            smallest_index = i\n",
    "    return smallest_index\n",
    "\n",
    "# 对数组进行排序\n",
    "def selectionSort(arr):\n",
    "    newArr = []\n",
    "    \n",
    "    for i in range(len(arr)):\n",
    "        smallest = findSmallest(arr)\n",
    "        newArr.append(arr.pop(smallest))\n",
    "    return newArr\n",
    "\n",
    "# test\n",
    "a = [3,5,6,1,2,9,8,11]\n",
    "print('before:')\n",
    "print(a)\n",
    "print('after:')\n",
    "print(selectionSort(a))"
   ]
  },
  {
   "cell_type": "code",
   "execution_count": 12,
   "metadata": {},
   "outputs": [
    {
     "name": "stdout",
     "output_type": "stream",
     "text": [
      "[1]\n",
      "[1, 2]\n",
      "[1, 2, 3]\n",
      "1\n",
      "[2, 3]\n"
     ]
    }
   ],
   "source": [
    "b = []\n",
    "b.append(1)\n",
    "print(b)\n",
    "b.append(2)\n",
    "print(b)\n",
    "b.append(3)\n",
    "print(b)\n",
    "print(b.pop(0))\n",
    "print(b)"
   ]
  },
  {
   "cell_type": "code",
   "execution_count": 15,
   "metadata": {},
   "outputs": [
    {
     "name": "stdout",
     "output_type": "stream",
     "text": [
      "15\n"
     ]
    }
   ],
   "source": [
    "# 使用递归计算数组和\n",
    "def sumArr(arr):\n",
    "    if arr == []:\n",
    "        return 0\n",
    "    elif len(arr) == 1:\n",
    "        return arr[0]\n",
    "    else:\n",
    "        t = arr.pop(0)\n",
    "        return t + sumArr(arr)\n",
    "        \n",
    "# test \n",
    "a = [1,2,3,4,5]\n",
    "print(sumArr(a))"
   ]
  },
  {
   "cell_type": "code",
   "execution_count": null,
   "metadata": {},
   "outputs": [],
   "source": []
  }
 ],
 "metadata": {
  "kernelspec": {
   "display_name": "Python 3",
   "language": "python",
   "name": "python3"
  },
  "language_info": {
   "codemirror_mode": {
    "name": "ipython",
    "version": 3
   },
   "file_extension": ".py",
   "mimetype": "text/x-python",
   "name": "python",
   "nbconvert_exporter": "python",
   "pygments_lexer": "ipython3",
   "version": "3.7.1"
  }
 },
 "nbformat": 4,
 "nbformat_minor": 2
}
