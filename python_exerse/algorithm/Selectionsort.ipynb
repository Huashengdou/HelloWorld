{
 "cells": [
  {
   "cell_type": "code",
   "execution_count": 6,
   "metadata": {},
   "outputs": [
    {
     "name": "stdout",
     "output_type": "stream",
     "text": [
      "before:\n",
      "[3, 5, 6, 1, 2, 9, 8, 11]\n",
      "after:\n",
      "[11]\n",
      "[11, 9]\n",
      "[11, 9, 8]\n",
      "[11, 9, 8, 6]\n",
      "[11, 9, 8, 6, 5]\n",
      "[11, 9, 8, 6, 5, 3]\n",
      "[11, 9, 8, 6, 5, 3, 2]\n",
      "[11, 9, 8, 6, 5, 3, 2, 1]\n",
      "[11, 9, 8, 6, 5, 3, 2, 1]\n"
     ]
    }
   ],
   "source": [
    "# 选择排序--时间复杂度为O(n²)\n",
    "\n",
    "# 首先找到数组元素中最小的\n",
    "def findSmallest(arr):\n",
    "    smallest = arr[0] # 记录最小值\n",
    "    smallest_index = 0 # 记录最小值对应的索引\n",
    "    \n",
    "    for i in range(1,len(arr)): # 注意要从1开始\n",
    "        if smallest < arr[i]:\n",
    "            smallest = arr[i]\n",
    "            smallest_index = i\n",
    "    return smallest_index\n",
    "\n",
    "# 对数组进行排序\n",
    "def selectionSort(arr):\n",
    "    newArr = []\n",
    "    \n",
    "    for i in range(len(arr)):\n",
    "        smallest = findSmallest(arr)\n",
    "        newArr.append(arr.pop(smallest))\n",
    "        print(newArr)\n",
    "    return newArr\n",
    "\n",
    "# test\n",
    "a = [3,5,6,1,2,9,8,11]\n",
    "print('before:')\n",
    "print(a)\n",
    "print('after:')\n",
    "print(selectionSort(a))"
   ]
  },
  {
   "cell_type": "code",
   "execution_count": 3,
   "metadata": {},
   "outputs": [
    {
     "name": "stdout",
     "output_type": "stream",
     "text": [
      "[1]\n",
      "[1, 2]\n",
      "[1, 2, 3]\n"
     ]
    }
   ],
   "source": [
    "b = []\n",
    "b.append(1)\n",
    "print(b)\n",
    "b.append(2)\n",
    "print(b)\n",
    "b.append(3)\n",
    "print(b)"
   ]
  },
  {
   "cell_type": "code",
   "execution_count": null,
   "metadata": {},
   "outputs": [],
   "source": []
  }
 ],
 "metadata": {
  "kernelspec": {
   "display_name": "Python 3",
   "language": "python",
   "name": "python3"
  },
  "language_info": {
   "codemirror_mode": {
    "name": "ipython",
    "version": 3
   },
   "file_extension": ".py",
   "mimetype": "text/x-python",
   "name": "python",
   "nbconvert_exporter": "python",
   "pygments_lexer": "ipython3",
   "version": "3.7.1"
  }
 },
 "nbformat": 4,
 "nbformat_minor": 2
}
