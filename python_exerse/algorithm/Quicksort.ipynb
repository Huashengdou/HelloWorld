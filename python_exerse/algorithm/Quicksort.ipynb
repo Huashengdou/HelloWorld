{
 "cells": [
  {
   "cell_type": "code",
   "execution_count": 2,
   "metadata": {},
   "outputs": [
    {
     "name": "stdout",
     "output_type": "stream",
     "text": [
      "[9, 7, 6, 3, 2, 1]\n"
     ]
    }
   ],
   "source": [
    "# 快速排序\n",
    "def quicksort(arr):\n",
    "    if len(arr) < 2:# 基线条件\n",
    "        return arr\n",
    "    else:\n",
    "        pivot = arr[0]# 基准值\n",
    "        less = [i for i in arr[1:] if i <= pivot]# 小于基线值的\n",
    "        greater = [i for i in arr[1:] if i > pivot]# 大于基线值的\n",
    "        \n",
    "        #return quicksort(less) + [pivot] + quicksort(greater)# 从小到大排序\n",
    "        return quicksort(greater) + [pivot] + quicksort(less) # 从大到小排序\n",
    "    \n",
    "# test \n",
    "a = [1,6,2,3,7,9]\n",
    "print(quicksort(a))"
   ]
  },
  {
   "cell_type": "code",
   "execution_count": 4,
   "metadata": {},
   "outputs": [
    {
     "name": "stdout",
     "output_type": "stream",
     "text": [
      "[2, 3, 4, 5, 9, 10, 12, 12, 16]\n"
     ]
    }
   ],
   "source": [
    "# 展开写\n",
    "def quick_sort(arr):\n",
    "    if len(arr) < 2:\n",
    "        return arr\n",
    "    else:\n",
    "        pivot = arr[0]\n",
    "        less = []\n",
    "        for i in arr[1:]:\n",
    "            if i <= pivot:\n",
    "                less.append(i)\n",
    "        \n",
    "        greater = []\n",
    "        for i in arr[1:]:\n",
    "            if i > pivot:\n",
    "                greater.append(i)\n",
    "        \n",
    "        return quick_sort(less) + [pivot] + quick_sort(greater)\n",
    "# test\n",
    "b = [9,10,12,2,12,3,4,5,16]\n",
    "print(quick_sort(b))"
   ]
  },
  {
   "cell_type": "code",
   "execution_count": null,
   "metadata": {},
   "outputs": [],
   "source": []
  }
 ],
 "metadata": {
  "kernelspec": {
   "display_name": "Python 3",
   "language": "python",
   "name": "python3"
  },
  "language_info": {
   "codemirror_mode": {
    "name": "ipython",
    "version": 3
   },
   "file_extension": ".py",
   "mimetype": "text/x-python",
   "name": "python",
   "nbconvert_exporter": "python",
   "pygments_lexer": "ipython3",
   "version": "3.7.1"
  }
 },
 "nbformat": 4,
 "nbformat_minor": 2
}
