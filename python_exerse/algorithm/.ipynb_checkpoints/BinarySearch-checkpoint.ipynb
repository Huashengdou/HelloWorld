{
 "cells": [
  {
   "cell_type": "code",
   "execution_count": 1,
   "metadata": {},
   "outputs": [
    {
     "name": "stdout",
     "output_type": "stream",
     "text": [
      "6\n"
     ]
    }
   ],
   "source": [
    "# 二分查找\n",
    "def binary_search(list, guess):\n",
    "    low = 0\n",
    "    high = len(list) - 1\n",
    "    \n",
    "    while low <= high:\n",
    "        middle = (int)((low + high) / 2) # 找到中间\n",
    "        if guess == list[middle]:\n",
    "            return middle\n",
    "        elif guess < list[middle]:\n",
    "            high = middle - 1\n",
    "        elif guess > list[middle]:\n",
    "            low = middle + 1\n",
    "    return None\n",
    "\n",
    "# test\n",
    "a = [2,4,7,8,9,10,11]\n",
    "print(binary_search(a, 11))"
   ]
  },
  {
   "cell_type": "code",
   "execution_count": null,
   "metadata": {},
   "outputs": [],
   "source": []
  }
 ],
 "metadata": {
  "kernelspec": {
   "display_name": "Python 3",
   "language": "python",
   "name": "python3"
  },
  "language_info": {
   "codemirror_mode": {
    "name": "ipython",
    "version": 3
   },
   "file_extension": ".py",
   "mimetype": "text/x-python",
   "name": "python",
   "nbconvert_exporter": "python",
   "pygments_lexer": "ipython3",
   "version": "3.7.1"
  }
 },
 "nbformat": 4,
 "nbformat_minor": 2
}
